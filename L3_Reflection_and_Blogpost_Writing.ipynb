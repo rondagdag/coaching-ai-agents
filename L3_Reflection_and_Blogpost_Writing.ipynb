{
 "cells": [
  {
   "cell_type": "markdown",
   "id": "fc3024e2",
   "metadata": {},
   "source": [
    "# Agentic Design Patterns: Reflection"
   ]
  },
  {
   "cell_type": "markdown",
   "id": "c5b475ab",
   "metadata": {},
   "source": [
    "![alt text](image.png)"
   ]
  },
  {
   "cell_type": "markdown",
   "id": "3b0cc42f",
   "metadata": {},
   "source": [
    "## Setup"
   ]
  },
  {
   "cell_type": "markdown",
   "metadata": {},
   "source": []
  },
  {
   "cell_type": "code",
   "execution_count": null,
   "id": "b04360a4",
   "metadata": {},
   "outputs": [],
   "source": []
  },
  {
   "cell_type": "code",
   "execution_count": null,
   "id": "96d39be0-eaf3-456d-8613-ba21099ed36b",
   "metadata": {
    "height": 30
   },
   "outputs": [],
   "source": [
    "llm_config = {\"model\": \"gpt-3.5-turbo\"}"
   ]
  },
  {
   "cell_type": "markdown",
   "id": "0969e6bb",
   "metadata": {},
   "source": [
    "## The task!"
   ]
  },
  {
   "cell_type": "code",
   "execution_count": 2,
   "id": "e8074032-3690-4de9-ad08-ea8323cb441b",
   "metadata": {
    "height": 130
   },
   "outputs": [],
   "source": [
    "task = '''\n",
    "        Write a concise but engaging blogpost about\n",
    "       Dallas AI. Make sure the blogpost is\n",
    "       within 100 words.\n",
    "       '''\n"
   ]
  },
  {
   "cell_type": "markdown",
   "id": "1987f023",
   "metadata": {},
   "source": [
    "## Create a writer agent"
   ]
  },
  {
   "cell_type": "code",
   "execution_count": 3,
   "id": "fe0f0a47-a9fe-43a0-b7b1-79922e4c4ac8",
   "metadata": {
    "height": 198
   },
   "outputs": [],
   "source": [
    "import autogen\n",
    "\n",
    "writer = autogen.AssistantAgent(\n",
    "    name=\"Writer\",\n",
    "    system_message=\"You are a writer. You write engaging and concise \" \n",
    "        \"blogpost (with title) on given topics. You must polish your \"\n",
    "        \"writing based on the feedback you receive and give a refined \"\n",
    "        \"version. Only return your final work without additional comments.\",\n",
    "    llm_config=llm_config,\n",
    ")"
   ]
  },
  {
   "cell_type": "code",
   "execution_count": 4,
   "id": "7c7b4d8d-40f7-4a05-8958-25d20054de3a",
   "metadata": {
    "height": 45
   },
   "outputs": [],
   "source": [
    "reply = writer.generate_reply(messages=[{\"content\": task, \"role\": \"user\"}])"
   ]
  },
  {
   "cell_type": "code",
   "execution_count": 5,
   "id": "c501c97d-e338-4f36-a384-6ec45983cf77",
   "metadata": {
    "height": 30
   },
   "outputs": [
    {
     "name": "stdout",
     "output_type": "stream",
     "text": [
      "Title: \"Exploring the Cutting-Edge Technology of Dallas AI\"\n",
      "\n",
      "Discover the innovative world of Dallas AI, where artificial intelligence is revolutionizing industries. From healthcare to finance, AI is shaping the future of Dallas with its advanced algorithms and machine learning capabilities. Stay ahead of the curve by exploring how Dallas is embracing AI to streamline processes, enhance decision-making, and drive growth. Join the AI revolution in Dallas and witness firsthand the power of this transformative technology. Don't miss out on being a part of this exciting journey towards a smarter and more connected future with Dallas AI.\n"
     ]
    }
   ],
   "source": [
    "print(reply)"
   ]
  },
  {
   "cell_type": "markdown",
   "id": "49658114",
   "metadata": {},
   "source": [
    "## Adding reflection \n",
    "\n",
    "Create a critic agent to reflect on the work of the writer agent."
   ]
  },
  {
   "cell_type": "code",
   "execution_count": 6,
   "id": "c7fcd1c7-51ec-4915-8e97-bac03565c4c7",
   "metadata": {
    "height": 164
   },
   "outputs": [],
   "source": [
    "critic = autogen.AssistantAgent(\n",
    "    name=\"Critic\",\n",
    "    is_termination_msg=lambda x: x.get(\"content\", \"\").find(\"TERMINATE\") >= 0,\n",
    "    llm_config=llm_config,\n",
    "    system_message=\"You are a critic. You review the work of \"\n",
    "                \"the writer and provide constructive \"\n",
    "                \"feedback to help improve the quality of the content.\",\n",
    ")"
   ]
  },
  {
   "cell_type": "code",
   "execution_count": 7,
   "id": "899d5fdb-6081-470b-b287-8cf8b8142d0d",
   "metadata": {
    "height": 115
   },
   "outputs": [
    {
     "name": "stdout",
     "output_type": "stream",
     "text": [
      "\u001b[33mCritic\u001b[0m (to Writer):\n",
      "\n",
      "\n",
      "        Write a concise but engaging blogpost about\n",
      "       Dallas AI. Make sure the blogpost is\n",
      "       within 100 words.\n",
      "       \n",
      "\n",
      "--------------------------------------------------------------------------------\n",
      "\u001b[33mWriter\u001b[0m (to Critic):\n",
      "\n",
      "Title: \"Exploring the Cutting-Edge Technology of Dallas AI\"\n",
      "\n",
      "Discover the innovative world of Dallas AI, where artificial intelligence is revolutionizing industries. From healthcare to finance, AI is shaping the future of Dallas with its advanced algorithms and machine learning capabilities. Stay ahead of the curve by exploring how Dallas is embracing AI to streamline processes, enhance decision-making, and drive growth. Join the AI revolution in Dallas and witness firsthand the power of this transformative technology. Don't miss out on being a part of this exciting journey towards a smarter and more connected future with Dallas AI.\n",
      "\n",
      "--------------------------------------------------------------------------------\n",
      "\u001b[33mCritic\u001b[0m (to Writer):\n",
      "\n",
      "This blog post effectively captures the essence of Dallas AI as a transformative technology shaping various industries. The title is catchy and sets the tone for an engaging read. The content is concise and informative, highlighting the impact of AI on different sectors in Dallas. To enhance the blog post, consider incorporating specific examples or case studies to illustrate the real-world applications of AI in Dallas. Additionally, expanding on the benefits and challenges of AI implementation in the city could provide valuable insights for readers. Overall, a well-crafted piece with room for deeper exploration of AI in Dallas.\n",
      "\n",
      "--------------------------------------------------------------------------------\n",
      "\u001b[33mWriter\u001b[0m (to Critic):\n",
      "\n",
      "Title: \"Unleashing the Future: Dallas AI in Action\"\n",
      "\n",
      "Step into the realm of Dallas AI, where the convergence of artificial intelligence and innovation is reshaping industries. Witness how AI is propelling Dallas forward through real-world applications like personalized healthcare diagnostics and predictive financial analytics. Delve deeper into the benefits of AI integration in the city, from optimizing operational efficiency to driving economic growth. Uncover the challenges that come with implementing AI in Dallas and the strategies to overcome them. Join the transformative journey of Dallas AI and explore the limitless possibilities it offers for a smarter and more efficient future.\n",
      "\n",
      "--------------------------------------------------------------------------------\n"
     ]
    }
   ],
   "source": [
    "res = critic.initiate_chat(\n",
    "    recipient=writer,\n",
    "    message=task,\n",
    "    max_turns=2,\n",
    "    summary_method=\"last_msg\"\n",
    ")"
   ]
  },
  {
   "cell_type": "markdown",
   "id": "e7b76449",
   "metadata": {},
   "source": [
    "## Nested chat"
   ]
  },
  {
   "cell_type": "code",
   "execution_count": 8,
   "id": "401ecf92-63e9-40ff-aeed-1c404352e4ab",
   "metadata": {
    "height": 215
   },
   "outputs": [],
   "source": [
    "SEO_reviewer = autogen.AssistantAgent(\n",
    "    name=\"SEO Reviewer\",\n",
    "    llm_config=llm_config,\n",
    "    system_message=\"You are an SEO reviewer, known for \"\n",
    "        \"your ability to optimize content for search engines, \"\n",
    "        \"ensuring that it ranks well and attracts organic traffic. \" \n",
    "        \"Make sure your suggestion is concise (within 3 bullet points), \"\n",
    "        \"concrete and to the point. \"\n",
    "        \"Begin the review by stating your role.\",\n",
    ")\n"
   ]
  },
  {
   "cell_type": "code",
   "execution_count": 9,
   "id": "f85acb81-7ab9-4c84-b8bb-6fbae3dce848",
   "metadata": {
    "height": 198
   },
   "outputs": [],
   "source": [
    "legal_reviewer = autogen.AssistantAgent(\n",
    "    name=\"Legal Reviewer\",\n",
    "    llm_config=llm_config,\n",
    "    system_message=\"You are a legal reviewer, known for \"\n",
    "        \"your ability to ensure that content is legally compliant \"\n",
    "        \"and free from any potential legal issues. \"\n",
    "        \"Make sure your suggestion is concise (within 3 bullet points), \"\n",
    "        \"concrete and to the point. \"\n",
    "        \"Begin the review by stating your role.\",\n",
    ")"
   ]
  },
  {
   "cell_type": "code",
   "execution_count": 10,
   "id": "d46a177a-8088-4956-8d2b-3e916b8ca5e9",
   "metadata": {
    "height": 198
   },
   "outputs": [],
   "source": [
    "ethics_reviewer = autogen.AssistantAgent(\n",
    "    name=\"Ethics Reviewer\",\n",
    "    llm_config=llm_config,\n",
    "    system_message=\"You are an ethics reviewer, known for \"\n",
    "        \"your ability to ensure that content is ethically sound \"\n",
    "        \"and free from any potential ethical issues. \" \n",
    "        \"Make sure your suggestion is concise (within 3 bullet points), \"\n",
    "        \"concrete and to the point. \"\n",
    "        \"Begin the review by stating your role. \",\n",
    ")"
   ]
  },
  {
   "cell_type": "code",
   "execution_count": 11,
   "id": "a7b2ad6f-8ba6-436a-9459-14ffbe8a32d3",
   "metadata": {
    "height": 130
   },
   "outputs": [],
   "source": [
    "meta_reviewer = autogen.AssistantAgent(\n",
    "    name=\"Meta Reviewer\",\n",
    "    llm_config=llm_config,\n",
    "    system_message=\"You are a meta reviewer, you aggragate and review \"\n",
    "    \"the work of other reviewers and give a final suggestion on the content.\",\n",
    ")"
   ]
  },
  {
   "cell_type": "markdown",
   "id": "913beca1",
   "metadata": {},
   "source": [
    "## Orchestrate the nested chats to solve the task"
   ]
  },
  {
   "cell_type": "code",
   "execution_count": 12,
   "id": "a11a70c7-19ca-4e5a-ad3d-f2b481fb5915",
   "metadata": {
    "height": 555
   },
   "outputs": [],
   "source": [
    "def reflection_message(recipient, messages, sender, config):\n",
    "    return f'''Review the following content. \n",
    "            \\n\\n {recipient.chat_messages_for_summary(sender)[-1]['content']}'''\n",
    "\n",
    "review_chats = [\n",
    "    {\n",
    "     \"recipient\": SEO_reviewer, \n",
    "     \"message\": reflection_message, \n",
    "     \"summary_method\": \"reflection_with_llm\",\n",
    "     \"summary_args\": {\"summary_prompt\" : \n",
    "        \"Return review into as JSON object only:\"\n",
    "        \"{'Reviewer': '', 'Review': ''}. Here Reviewer should be your role\",},\n",
    "     \"max_turns\": 1},\n",
    "    {\n",
    "    \"recipient\": legal_reviewer, \"message\": reflection_message, \n",
    "     \"summary_method\": \"reflection_with_llm\",\n",
    "     \"summary_args\": {\"summary_prompt\" : \n",
    "        \"Return review into as JSON object only:\"\n",
    "        \"{'Reviewer': '', 'Review': ''}.\",},\n",
    "     \"max_turns\": 1},\n",
    "    {\"recipient\": ethics_reviewer, \"message\": reflection_message, \n",
    "     \"summary_method\": \"reflection_with_llm\",\n",
    "     \"summary_args\": {\"summary_prompt\" : \n",
    "        \"Return review into as JSON object only:\"\n",
    "        \"{'reviewer': '', 'review': ''}\",},\n",
    "     \"max_turns\": 1},\n",
    "     {\"recipient\": meta_reviewer, \n",
    "      \"message\": \"Aggregrate feedback from all reviewers and give final suggestions on the writing.\", \n",
    "     \"max_turns\": 1},\n",
    "]\n"
   ]
  },
  {
   "cell_type": "code",
   "execution_count": 13,
   "id": "b3a40b66-5061-460d-ad9d-c0dbcfbba2e9",
   "metadata": {
    "height": 81
   },
   "outputs": [],
   "source": [
    "critic.register_nested_chats(\n",
    "    review_chats,\n",
    "    trigger=writer,\n",
    ")"
   ]
  },
  {
   "cell_type": "markdown",
   "id": "43b8797d",
   "metadata": {},
   "source": [
    "**Note**: You might get a slightly different response than what's shown in the video. Feel free to try different task."
   ]
  },
  {
   "cell_type": "code",
   "execution_count": 14,
   "id": "3b8dcac3-1e72-43b7-9d5a-1be740f6efd5",
   "metadata": {
    "height": 115
   },
   "outputs": [
    {
     "name": "stdout",
     "output_type": "stream",
     "text": [
      "\u001b[33mCritic\u001b[0m (to Writer):\n",
      "\n",
      "\n",
      "        Write a concise but engaging blogpost about\n",
      "       Dallas AI. Make sure the blogpost is\n",
      "       within 100 words.\n",
      "       \n",
      "\n",
      "--------------------------------------------------------------------------------\n",
      "\u001b[33mWriter\u001b[0m (to Critic):\n",
      "\n",
      "Title: \"Exploring the Cutting-Edge Technology of Dallas AI\"\n",
      "\n",
      "Discover the innovative world of Dallas AI, where artificial intelligence is revolutionizing industries. From healthcare to finance, AI is shaping the future of Dallas with its advanced algorithms and machine learning capabilities. Stay ahead of the curve by exploring how Dallas is embracing AI to streamline processes, enhance decision-making, and drive growth. Join the AI revolution in Dallas and witness firsthand the power of this transformative technology. Don't miss out on being a part of this exciting journey towards a smarter and more connected future with Dallas AI.\n",
      "\n",
      "--------------------------------------------------------------------------------\n",
      "\u001b[34m\n",
      "********************************************************************************\u001b[0m\n",
      "\u001b[34mStarting a new chat....\u001b[0m\n",
      "\u001b[34m\n",
      "********************************************************************************\u001b[0m\n",
      "\u001b[33mCritic\u001b[0m (to SEO Reviewer):\n",
      "\n",
      "Review the following content. \n",
      "            \n",
      "\n",
      " Title: \"Exploring the Cutting-Edge Technology of Dallas AI\"\n",
      "\n",
      "Discover the innovative world of Dallas AI, where artificial intelligence is revolutionizing industries. From healthcare to finance, AI is shaping the future of Dallas with its advanced algorithms and machine learning capabilities. Stay ahead of the curve by exploring how Dallas is embracing AI to streamline processes, enhance decision-making, and drive growth. Join the AI revolution in Dallas and witness firsthand the power of this transformative technology. Don't miss out on being a part of this exciting journey towards a smarter and more connected future with Dallas AI.\n",
      "\n",
      "--------------------------------------------------------------------------------\n",
      "\u001b[33mSEO Reviewer\u001b[0m (to Critic):\n",
      "\n",
      "As an SEO reviewer:\n",
      "\n",
      "1. Incorporate relevant keywords: Include specific and commonly searched terms related to AI and Dallas, such as \"AI technology Dallas,\" \"artificial intelligence innovations in Dallas,\" to improve search engine visibility.\n",
      "  \n",
      "2. Enhance meta description: Craft a concise and compelling meta description (~150 characters) summarizing the content and enticing users to click. Example: \"Explore the impact of cutting-edge AI in Dallas. From healthcare to finance, discover how AI is shaping the future. Join the revolution today!\"\n",
      "\n",
      "3. Include internal links: Link relevant pages within the website to boost SEO performance and provide users with additional valuable information. For instance, link to specific AI use cases in Dallas or related articles on AI technology trends in the region.\n",
      "\n",
      "--------------------------------------------------------------------------------\n",
      "\u001b[34m\n",
      "********************************************************************************\u001b[0m\n",
      "\u001b[34mStarting a new chat....\u001b[0m\n",
      "\u001b[34m\n",
      "********************************************************************************\u001b[0m\n",
      "\u001b[33mCritic\u001b[0m (to Legal Reviewer):\n",
      "\n",
      "Review the following content. \n",
      "            \n",
      "\n",
      " Title: \"Exploring the Cutting-Edge Technology of Dallas AI\"\n",
      "\n",
      "Discover the innovative world of Dallas AI, where artificial intelligence is revolutionizing industries. From healthcare to finance, AI is shaping the future of Dallas with its advanced algorithms and machine learning capabilities. Stay ahead of the curve by exploring how Dallas is embracing AI to streamline processes, enhance decision-making, and drive growth. Join the AI revolution in Dallas and witness firsthand the power of this transformative technology. Don't miss out on being a part of this exciting journey towards a smarter and more connected future with Dallas AI.\n",
      "Context: \n",
      "{'Reviewer': 'SEO Reviewer', 'Review': '1. Incorporate relevant keywords: Include specific and commonly searched terms related to AI and Dallas, such as \"AI technology Dallas,\" \"artificial intelligence innovations in Dallas,\" to improve search engine visibility. 2. Enhance meta description: Craft a concise and compelling meta description (~150 characters) summarizing the content and enticing users to click. Example: \"Explore the impact of cutting-edge AI in Dallas. From healthcare to finance, discover how AI is shaping the future. Join the revolution today!\" 3. Include internal links: Link relevant pages within the website to boost SEO performance and provide users with additional valuable information. For instance, link to specific AI use cases in Dallas or related articles on AI technology trends in the region.'}\n",
      "\n",
      "--------------------------------------------------------------------------------\n",
      "\u001b[33mLegal Reviewer\u001b[0m (to Critic):\n",
      "\n",
      "As a Legal Reviewer:\n",
      "\n",
      "- Ensure that the content does not make any unsubstantiated claims about AI technology in Dallas that may mislead readers or potential stakeholders.\n",
      "- Check for accuracy regarding the benefits and applications of AI in various industries mentioned in the content to avoid potential misrepresentation.\n",
      "- Verify that there are no suggestions or implications of AI technology in Dallas that could infringe on intellectual property rights or data protection regulations.\n",
      "\n",
      "--------------------------------------------------------------------------------\n",
      "\u001b[34m\n",
      "********************************************************************************\u001b[0m\n",
      "\u001b[34mStarting a new chat....\u001b[0m\n",
      "\u001b[34m\n",
      "********************************************************************************\u001b[0m\n",
      "\u001b[33mCritic\u001b[0m (to Ethics Reviewer):\n",
      "\n",
      "Review the following content. \n",
      "            \n",
      "\n",
      " Title: \"Exploring the Cutting-Edge Technology of Dallas AI\"\n",
      "\n",
      "Discover the innovative world of Dallas AI, where artificial intelligence is revolutionizing industries. From healthcare to finance, AI is shaping the future of Dallas with its advanced algorithms and machine learning capabilities. Stay ahead of the curve by exploring how Dallas is embracing AI to streamline processes, enhance decision-making, and drive growth. Join the AI revolution in Dallas and witness firsthand the power of this transformative technology. Don't miss out on being a part of this exciting journey towards a smarter and more connected future with Dallas AI.\n",
      "Context: \n",
      "{'Reviewer': 'SEO Reviewer', 'Review': '1. Incorporate relevant keywords: Include specific and commonly searched terms related to AI and Dallas, such as \"AI technology Dallas,\" \"artificial intelligence innovations in Dallas,\" to improve search engine visibility. 2. Enhance meta description: Craft a concise and compelling meta description (~150 characters) summarizing the content and enticing users to click. Example: \"Explore the impact of cutting-edge AI in Dallas. From healthcare to finance, discover how AI is shaping the future. Join the revolution today!\" 3. Include internal links: Link relevant pages within the website to boost SEO performance and provide users with additional valuable information. For instance, link to specific AI use cases in Dallas or related articles on AI technology trends in the region.'}\n",
      "{\n",
      "  \"Reviewer\": \"Legal Reviewer\",\n",
      "  \"Review\": \"- Ensure that the content does not make any unsubstantiated claims about AI technology in Dallas that may mislead readers or potential stakeholders. - Check for accuracy regarding the benefits and applications of AI in various industries mentioned in the content to avoid potential misrepresentation. - Verify that there are no suggestions or implications of AI technology in Dallas that could infringe on intellectual property rights or data protection regulations.\"\n",
      "}\n",
      "\n",
      "--------------------------------------------------------------------------------\n",
      "\u001b[33mEthics Reviewer\u001b[0m (to Critic):\n",
      "\n",
      "As an ethics reviewer:\n",
      "\n",
      "- Ensure that the content provides accurate and evidence-based information about AI technology in Dallas to prevent misleading readers.\n",
      "- Check for any potential implications or suggestions in the content that could infringe on intellectual property rights or data protection regulations.\n",
      "- Verify that any claims made about the benefits and applications of AI in Dallas are substantiated and not exaggerated to maintain transparency and credibility.\n",
      "\n",
      "--------------------------------------------------------------------------------\n",
      "\u001b[34m\n",
      "********************************************************************************\u001b[0m\n",
      "\u001b[34mStarting a new chat....\u001b[0m\n",
      "\u001b[34m\n",
      "********************************************************************************\u001b[0m\n",
      "\u001b[33mCritic\u001b[0m (to Meta Reviewer):\n",
      "\n",
      "Aggregrate feedback from all reviewers and give final suggestions on the writing.\n",
      "Context: \n",
      "{'Reviewer': 'SEO Reviewer', 'Review': '1. Incorporate relevant keywords: Include specific and commonly searched terms related to AI and Dallas, such as \"AI technology Dallas,\" \"artificial intelligence innovations in Dallas,\" to improve search engine visibility. 2. Enhance meta description: Craft a concise and compelling meta description (~150 characters) summarizing the content and enticing users to click. Example: \"Explore the impact of cutting-edge AI in Dallas. From healthcare to finance, discover how AI is shaping the future. Join the revolution today!\" 3. Include internal links: Link relevant pages within the website to boost SEO performance and provide users with additional valuable information. For instance, link to specific AI use cases in Dallas or related articles on AI technology trends in the region.'}\n",
      "{\n",
      "  \"Reviewer\": \"Legal Reviewer\",\n",
      "  \"Review\": \"- Ensure that the content does not make any unsubstantiated claims about AI technology in Dallas that may mislead readers or potential stakeholders. - Check for accuracy regarding the benefits and applications of AI in various industries mentioned in the content to avoid potential misrepresentation. - Verify that there are no suggestions or implications of AI technology in Dallas that could infringe on intellectual property rights or data protection regulations.\"\n",
      "}\n",
      "{'reviewer': 'Ethics Reviewer', 'review': '- Ensure that the content provides accurate and evidence-based information about AI technology in Dallas to prevent misleading readers. - Check for any potential implications or suggestions in the content that could infringe on intellectual property rights or data protection regulations. - Verify that any claims made about the benefits and applications of AI in Dallas are substantiated and not exaggerated to maintain transparency and credibility.'}\n",
      "\n",
      "--------------------------------------------------------------------------------\n",
      "\u001b[33mMeta Reviewer\u001b[0m (to Critic):\n",
      "\n",
      "After aggregating the feedback from all reviewers, here are the key points to consider for final suggestions on the writing regarding AI technology in Dallas:\n",
      "\n",
      "1. Incorporate relevant keywords: Ensure that the content includes specific and commonly searched terms related to AI and Dallas to enhance search engine visibility.\n",
      "\n",
      "2. Enhance meta description: Craft a concise and compelling meta description summarizing the content to entice users to click and engage with the information provided.\n",
      "\n",
      "3. Include internal links: Link relevant pages within the website to boost SEO performance and provide users with additional valuable information on AI technology in Dallas.\n",
      "\n",
      "4. Avoid unsubstantiated claims: Verify the accuracy of information presented to prevent misleading readers or stakeholders about AI technology in Dallas.\n",
      "\n",
      "5. Check for implications on intellectual property rights and data protection: Ensure that the content does not suggest or imply any infringement on intellectual property rights or data protection regulations related to AI in Dallas.\n",
      "\n",
      "6. Provide evidence-based information: Verify that any claims made about the benefits and applications of AI in Dallas are supported with evidence to maintain transparency and credibility.\n",
      "\n",
      "Overall, by incorporating these suggestions, the writing on AI technology in Dallas can be optimized for search engines, accuracy, and ethical considerations. It is important to provide valuable and trustworthy information while maintaining compliance with legal and ethical standards in the AI industry.\n",
      "\n",
      "--------------------------------------------------------------------------------\n",
      "\u001b[33mCritic\u001b[0m (to Writer):\n",
      "\n",
      "After aggregating the feedback from all reviewers, here are the key points to consider for final suggestions on the writing regarding AI technology in Dallas:\n",
      "\n",
      "1. Incorporate relevant keywords: Ensure that the content includes specific and commonly searched terms related to AI and Dallas to enhance search engine visibility.\n",
      "\n",
      "2. Enhance meta description: Craft a concise and compelling meta description summarizing the content to entice users to click and engage with the information provided.\n",
      "\n",
      "3. Include internal links: Link relevant pages within the website to boost SEO performance and provide users with additional valuable information on AI technology in Dallas.\n",
      "\n",
      "4. Avoid unsubstantiated claims: Verify the accuracy of information presented to prevent misleading readers or stakeholders about AI technology in Dallas.\n",
      "\n",
      "5. Check for implications on intellectual property rights and data protection: Ensure that the content does not suggest or imply any infringement on intellectual property rights or data protection regulations related to AI in Dallas.\n",
      "\n",
      "6. Provide evidence-based information: Verify that any claims made about the benefits and applications of AI in Dallas are supported with evidence to maintain transparency and credibility.\n",
      "\n",
      "Overall, by incorporating these suggestions, the writing on AI technology in Dallas can be optimized for search engines, accuracy, and ethical considerations. It is important to provide valuable and trustworthy information while maintaining compliance with legal and ethical standards in the AI industry.\n",
      "\n",
      "--------------------------------------------------------------------------------\n",
      "\u001b[33mWriter\u001b[0m (to Critic):\n",
      "\n",
      "Title: \"Unveiling the Potential of Dallas AI: A Glimpse into the Future\"\n",
      "\n",
      "Step into the realm of Dallas AI, where artificial intelligence is reshaping industries across the city. From enhancing healthcare services to revolutionizing financial systems, AI is at the forefront of technological advancement in Dallas. Dive into the intricate world of AI technology in Dallas to witness how it streamlines operations, drives decision-making, and fuels progress. Embrace the future by exploring the wonders of Dallas AI and discover firsthand the impact of this transformative technology. Join the movement towards a smarter, more connected Dallas powered by AI innovation.\n",
      "\n",
      "--------------------------------------------------------------------------------\n"
     ]
    }
   ],
   "source": [
    "res = critic.initiate_chat(\n",
    "    recipient=writer,\n",
    "    message=task,\n",
    "    max_turns=2,\n",
    "    summary_method=\"last_msg\"\n",
    ")"
   ]
  },
  {
   "cell_type": "markdown",
   "id": "c5c833b0",
   "metadata": {},
   "source": [
    "## Get the summary"
   ]
  },
  {
   "cell_type": "code",
   "execution_count": 15,
   "id": "68ef82ed-f102-4964-b7be-60e2f258a39b",
   "metadata": {
    "height": 30
   },
   "outputs": [
    {
     "name": "stdout",
     "output_type": "stream",
     "text": [
      "Title: \"Unveiling the Potential of Dallas AI: A Glimpse into the Future\"\n",
      "\n",
      "Step into the realm of Dallas AI, where artificial intelligence is reshaping industries across the city. From enhancing healthcare services to revolutionizing financial systems, AI is at the forefront of technological advancement in Dallas. Dive into the intricate world of AI technology in Dallas to witness how it streamlines operations, drives decision-making, and fuels progress. Embrace the future by exploring the wonders of Dallas AI and discover firsthand the impact of this transformative technology. Join the movement towards a smarter, more connected Dallas powered by AI innovation.\n"
     ]
    }
   ],
   "source": [
    "print(res.summary)"
   ]
  },
  {
   "cell_type": "code",
   "execution_count": null,
   "id": "60d60289",
   "metadata": {},
   "outputs": [],
   "source": []
  }
 ],
 "metadata": {
  "kernelspec": {
   "display_name": "Python 3 (ipykernel)",
   "language": "python",
   "name": "python3"
  },
  "language_info": {
   "codemirror_mode": {
    "name": "ipython",
    "version": 3
   },
   "file_extension": ".py",
   "mimetype": "text/x-python",
   "name": "python",
   "nbconvert_exporter": "python",
   "pygments_lexer": "ipython3",
   "version": "3.11.8"
  }
 },
 "nbformat": 4,
 "nbformat_minor": 5
}
