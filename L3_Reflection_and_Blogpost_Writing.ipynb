{
 "cells": [
  {
   "cell_type": "markdown",
   "id": "fc3024e2",
   "metadata": {},
   "source": [
    "# Agentic Design Patterns: Reflection"
   ]
  },
  {
   "cell_type": "markdown",
   "id": "c5b475ab",
   "metadata": {},
   "source": [
    "![alt text](image.png)"
   ]
  },
  {
   "cell_type": "markdown",
   "id": "3b0cc42f",
   "metadata": {},
   "source": [
    "## Setup"
   ]
  },
  {
   "cell_type": "markdown",
   "metadata": {},
   "source": []
  },
  {
   "cell_type": "code",
   "execution_count": 1,
   "id": "b04360a4",
   "metadata": {},
   "outputs": [],
   "source": [
    "from utils import get_openai_api_key\n",
    "OPENAI_API_KEY = get_openai_api_key()"
   ]
  },
  {
   "cell_type": "code",
   "execution_count": 2,
   "id": "96d39be0-eaf3-456d-8613-ba21099ed36b",
   "metadata": {
    "height": 30
   },
   "outputs": [],
   "source": [
    "llm_config = {\"model\": \"gpt-3.5-turbo\"}"
   ]
  },
  {
   "cell_type": "markdown",
   "id": "0969e6bb",
   "metadata": {},
   "source": [
    "## The task!"
   ]
  },
  {
   "cell_type": "code",
   "execution_count": 3,
   "id": "e8074032-3690-4de9-ad08-ea8323cb441b",
   "metadata": {
    "height": 130
   },
   "outputs": [],
   "source": [
    "task = '''\n",
    "        Write a concise but engaging blogpost about\n",
    "        Data Saturday Dallas. Make sure the blogpost is\n",
    "       within 100 words.\n",
    "       '''\n"
   ]
  },
  {
   "cell_type": "markdown",
   "id": "1987f023",
   "metadata": {},
   "source": [
    "## Create a writer agent"
   ]
  },
  {
   "cell_type": "code",
   "execution_count": 4,
   "id": "fe0f0a47-a9fe-43a0-b7b1-79922e4c4ac8",
   "metadata": {
    "height": 198
   },
   "outputs": [
    {
     "name": "stdout",
     "output_type": "stream",
     "text": [
      "[autogen.oai.client: 09-07 10:35:32] {129} WARNING - The API key specified is not a valid OpenAI format; it won't work with the OpenAI-hosted model.\n"
     ]
    }
   ],
   "source": [
    "import autogen\n",
    "\n",
    "writer = autogen.AssistantAgent(\n",
    "    name=\"Writer\",\n",
    "    system_message=\"You are a writer. You write engaging and concise \" \n",
    "        \"blogpost (with title) on given topics. You must polish your \"\n",
    "        \"writing based on the feedback you receive and give a refined \"\n",
    "        \"version. Only return your final work without additional comments.\",\n",
    "    llm_config=llm_config,\n",
    ")"
   ]
  },
  {
   "cell_type": "code",
   "execution_count": 5,
   "id": "7c7b4d8d-40f7-4a05-8958-25d20054de3a",
   "metadata": {
    "height": 45
   },
   "outputs": [],
   "source": [
    "reply = writer.generate_reply(messages=[{\"content\": task, \"role\": \"user\"}])"
   ]
  },
  {
   "cell_type": "code",
   "execution_count": 6,
   "id": "c501c97d-e338-4f36-a384-6ec45983cf77",
   "metadata": {
    "height": 30
   },
   "outputs": [
    {
     "name": "stdout",
     "output_type": "stream",
     "text": [
      "Title: \"Unveiling the Data Wonders of Data Saturday Dallas!\"\n",
      "\n",
      "Get ready to dive into a world of data excellence at Data Saturday Dallas! This event is a gold mine of insights, networking opportunities, and hands-on learning for data enthusiasts. With top-notch speakers and cutting-edge topics, you'll be empowered to unlock the true potential of data. Whether you're a seasoned data professional or just starting your journey, Data Saturday Dallas has something for everyone. Don't miss this chance to level up your data skills and connect with like-minded individuals. Mark your calendars for an unforgettable experience! 🚀📊 #DataSaturdayDallas #DataExcellence\n"
     ]
    }
   ],
   "source": [
    "print(reply)"
   ]
  },
  {
   "cell_type": "markdown",
   "id": "49658114",
   "metadata": {},
   "source": [
    "## Adding reflection \n",
    "\n",
    "Create a critic agent to reflect on the work of the writer agent."
   ]
  },
  {
   "cell_type": "code",
   "execution_count": 7,
   "id": "c7fcd1c7-51ec-4915-8e97-bac03565c4c7",
   "metadata": {
    "height": 164
   },
   "outputs": [
    {
     "name": "stdout",
     "output_type": "stream",
     "text": [
      "[autogen.oai.client: 09-07 10:36:14] {129} WARNING - The API key specified is not a valid OpenAI format; it won't work with the OpenAI-hosted model.\n"
     ]
    }
   ],
   "source": [
    "critic = autogen.AssistantAgent(\n",
    "    name=\"Critic\",\n",
    "    is_termination_msg=lambda x: x.get(\"content\", \"\").find(\"TERMINATE\") >= 0,\n",
    "    llm_config=llm_config,\n",
    "    system_message=\"You are a critic. You review the work of \"\n",
    "                \"the writer and provide constructive \"\n",
    "                \"feedback to help improve the quality of the content.\",\n",
    ")"
   ]
  },
  {
   "cell_type": "code",
   "execution_count": 8,
   "id": "899d5fdb-6081-470b-b287-8cf8b8142d0d",
   "metadata": {
    "height": 115
   },
   "outputs": [
    {
     "name": "stdout",
     "output_type": "stream",
     "text": [
      "\u001b[33mCritic\u001b[0m (to Writer):\n",
      "\n",
      "\n",
      "        Write a concise but engaging blogpost about\n",
      "        Data Saturday Dallas. Make sure the blogpost is\n",
      "       within 100 words.\n",
      "       \n",
      "\n",
      "--------------------------------------------------------------------------------\n",
      "\u001b[33mWriter\u001b[0m (to Critic):\n",
      "\n",
      "Title: \"Unveiling the Data Wonders of Data Saturday Dallas!\"\n",
      "\n",
      "Get ready to dive into a world of data excellence at Data Saturday Dallas! This event is a gold mine of insights, networking opportunities, and hands-on learning for data enthusiasts. With top-notch speakers and cutting-edge topics, you'll be empowered to unlock the true potential of data. Whether you're a seasoned data professional or just starting your journey, Data Saturday Dallas has something for everyone. Don't miss this chance to level up your data skills and connect with like-minded individuals. Mark your calendars for an unforgettable experience! 🚀📊 #DataSaturdayDallas #DataExcellence\n",
      "\n",
      "--------------------------------------------------------------------------------\n",
      "\u001b[33mCritic\u001b[0m (to Writer):\n",
      "\n",
      "This blogpost effectively captures the essence and excitement of Data Saturday Dallas in a concise manner. The title is engaging and sets the tone for the content. The use of enthusiastic language and emojis adds a touch of energy to the post. The post could benefit from including specific details such as the date of the event and a brief highlight of a speaker or topic to generate more interest. Additionally, incorporating a call to action, such as inviting readers to register for the event or follow a specific social media account for updates, can enhance reader engagement. Overall, this blogpost effectively conveys the excitement and value of attending Data Saturday Dallas but could be improved with additional specific information and a call to action.\n",
      "\n",
      "--------------------------------------------------------------------------------\n",
      "\u001b[33mWriter\u001b[0m (to Critic):\n",
      "\n",
      "Title: \"Unveiling the Data Magic of Data Saturday Dallas!\"\n",
      "\n",
      "Experience the ultimate data immersion at Data Saturday Dallas! Discover industry insights, connect with experts, and elevate your data skills. Join us on [Date] for captivating sessions led by top speakers like [Speaker], covering cutting-edge topics like [Topic]. Whether you're a seasoned pro or new to the field, Data Saturday Dallas offers something for everyone. Don't miss out on this opportunity to supercharge your data knowledge and network with fellow enthusiasts. Register now to secure your spot and embark on a data-driven journey like never before! 🚀📊 #DataSaturdayDallas #DataMagic\n",
      "\n",
      "--------------------------------------------------------------------------------\n",
      "\u001b[33mCritic\u001b[0m (to Writer):\n",
      "\n",
      "This blogpost provides a compelling and informative overview of Data Saturday Dallas. The title is engaging, and the content effectively highlights the key features of the event, such as industry insights, expert speakers, and learning opportunities. The inclusion of specific details like the date of the event, a featured speaker, and a sample topic adds depth and interest to the post. The call to action to register for the event is clear and reinforces the importance of taking action. The use of emojis adds a playful touch to the post without being overbearing. Overall, this blogpost effectively conveys the value and excitement of attending Data Saturday Dallas, providing readers with a clear incentive to participate. Great work!\n",
      "\n",
      "--------------------------------------------------------------------------------\n",
      "\u001b[33mWriter\u001b[0m (to Critic):\n",
      "\n",
      "Title: \"Unlock the Power of Data at Data Saturday Dallas!\"\n",
      "\n",
      "Immerse yourself in a world of data excellence at Data Saturday Dallas on [Date]. Join top industry experts like [Speaker] as they delve into cutting-edge topics such as [Topic]. Whether you're a seasoned pro or new to the field, this event offers invaluable insights and networking opportunities. Don't miss your chance to elevate your data skills and connect with fellow enthusiasts. Register now to secure your spot and embark on a data-driven journey like never before! 🚀📊 #DataSaturdayDallas #DataExcellence\n",
      "\n",
      "--------------------------------------------------------------------------------\n"
     ]
    }
   ],
   "source": [
    "res = critic.initiate_chat(\n",
    "    recipient=writer,\n",
    "    message=task,\n",
    "    max_turns=3,\n",
    "    summary_method=\"last_msg\"\n",
    ")"
   ]
  },
  {
   "cell_type": "markdown",
   "id": "e7b76449",
   "metadata": {},
   "source": [
    "## Nested chat"
   ]
  },
  {
   "cell_type": "code",
   "execution_count": 9,
   "id": "401ecf92-63e9-40ff-aeed-1c404352e4ab",
   "metadata": {
    "height": 215
   },
   "outputs": [
    {
     "name": "stdout",
     "output_type": "stream",
     "text": [
      "[autogen.oai.client: 09-07 10:40:05] {129} WARNING - The API key specified is not a valid OpenAI format; it won't work with the OpenAI-hosted model.\n"
     ]
    }
   ],
   "source": [
    "SEO_reviewer = autogen.AssistantAgent(\n",
    "    name=\"SEO Reviewer\",\n",
    "    llm_config=llm_config,\n",
    "    system_message=\"You are an SEO reviewer, known for \"\n",
    "        \"your ability to optimize content for search engines, \"\n",
    "        \"ensuring that it ranks well and attracts organic traffic. \" \n",
    "        \"Make sure your suggestion is concise (within 3 bullet points), \"\n",
    "        \"concrete and to the point. \"\n",
    "        \"Begin the review by stating your role.\",\n",
    ")\n"
   ]
  },
  {
   "cell_type": "code",
   "execution_count": 10,
   "id": "f85acb81-7ab9-4c84-b8bb-6fbae3dce848",
   "metadata": {
    "height": 198
   },
   "outputs": [
    {
     "name": "stdout",
     "output_type": "stream",
     "text": [
      "[autogen.oai.client: 09-07 10:40:11] {129} WARNING - The API key specified is not a valid OpenAI format; it won't work with the OpenAI-hosted model.\n"
     ]
    }
   ],
   "source": [
    "legal_reviewer = autogen.AssistantAgent(\n",
    "    name=\"Legal Reviewer\",\n",
    "    llm_config=llm_config,\n",
    "    system_message=\"You are a legal reviewer, known for \"\n",
    "        \"your ability to ensure that content is legally compliant \"\n",
    "        \"and free from any potential legal issues. \"\n",
    "        \"Make sure your suggestion is concise (within 3 bullet points), \"\n",
    "        \"concrete and to the point. \"\n",
    "        \"Begin the review by stating your role.\",\n",
    ")"
   ]
  },
  {
   "cell_type": "code",
   "execution_count": 11,
   "id": "d46a177a-8088-4956-8d2b-3e916b8ca5e9",
   "metadata": {
    "height": 198
   },
   "outputs": [
    {
     "name": "stdout",
     "output_type": "stream",
     "text": [
      "[autogen.oai.client: 09-07 10:40:19] {129} WARNING - The API key specified is not a valid OpenAI format; it won't work with the OpenAI-hosted model.\n"
     ]
    }
   ],
   "source": [
    "ethics_reviewer = autogen.AssistantAgent(\n",
    "    name=\"Ethics Reviewer\",\n",
    "    llm_config=llm_config,\n",
    "    system_message=\"You are an ethics reviewer, known for \"\n",
    "        \"your ability to ensure that content is ethically sound \"\n",
    "        \"and free from any potential ethical issues. \" \n",
    "        \"Make sure your suggestion is concise (within 3 bullet points), \"\n",
    "        \"concrete and to the point. \"\n",
    "        \"Begin the review by stating your role. \",\n",
    ")"
   ]
  },
  {
   "cell_type": "code",
   "execution_count": 12,
   "id": "a7b2ad6f-8ba6-436a-9459-14ffbe8a32d3",
   "metadata": {
    "height": 130
   },
   "outputs": [
    {
     "name": "stdout",
     "output_type": "stream",
     "text": [
      "[autogen.oai.client: 09-07 10:40:28] {129} WARNING - The API key specified is not a valid OpenAI format; it won't work with the OpenAI-hosted model.\n"
     ]
    }
   ],
   "source": [
    "meta_reviewer = autogen.AssistantAgent(\n",
    "    name=\"Meta Reviewer\",\n",
    "    llm_config=llm_config,\n",
    "    system_message=\"You are a meta reviewer, you aggragate and review \"\n",
    "    \"the work of other reviewers and give a final suggestion on the content.\",\n",
    ")"
   ]
  },
  {
   "cell_type": "markdown",
   "id": "913beca1",
   "metadata": {},
   "source": [
    "## Orchestrate the nested chats to solve the task"
   ]
  },
  {
   "cell_type": "code",
   "execution_count": 13,
   "id": "a11a70c7-19ca-4e5a-ad3d-f2b481fb5915",
   "metadata": {
    "height": 555
   },
   "outputs": [],
   "source": [
    "def reflection_message(recipient, messages, sender, config):\n",
    "    return f'''Review the following content. \n",
    "            \\n\\n {recipient.chat_messages_for_summary(sender)[-1]['content']}'''\n",
    "\n",
    "review_chats = [\n",
    "    {\n",
    "     \"recipient\": SEO_reviewer, \n",
    "     \"message\": reflection_message, \n",
    "     \"summary_method\": \"reflection_with_llm\",\n",
    "     \"summary_args\": {\"summary_prompt\" : \n",
    "        \"Return review into as JSON object only:\"\n",
    "        \"{'Reviewer': '', 'Review': ''}. Here Reviewer should be your role\",},\n",
    "     \"max_turns\": 1},\n",
    "    {\n",
    "    \"recipient\": legal_reviewer, \"message\": reflection_message, \n",
    "     \"summary_method\": \"reflection_with_llm\",\n",
    "     \"summary_args\": {\"summary_prompt\" : \n",
    "        \"Return review into as JSON object only:\"\n",
    "        \"{'Reviewer': '', 'Review': ''}.\",},\n",
    "     \"max_turns\": 1},\n",
    "    {\"recipient\": ethics_reviewer, \"message\": reflection_message, \n",
    "     \"summary_method\": \"reflection_with_llm\",\n",
    "     \"summary_args\": {\"summary_prompt\" : \n",
    "        \"Return review into as JSON object only:\"\n",
    "        \"{'reviewer': '', 'review': ''}\",},\n",
    "     \"max_turns\": 1},\n",
    "     {\"recipient\": meta_reviewer, \n",
    "      \"message\": \"Aggregrate feedback from all reviewers and give final suggestions on the writing.\", \n",
    "     \"max_turns\": 1},\n",
    "]\n"
   ]
  },
  {
   "cell_type": "code",
   "execution_count": 14,
   "id": "b3a40b66-5061-460d-ad9d-c0dbcfbba2e9",
   "metadata": {
    "height": 81
   },
   "outputs": [],
   "source": [
    "critic.register_nested_chats(\n",
    "    review_chats,\n",
    "    trigger=writer,\n",
    ")"
   ]
  },
  {
   "cell_type": "markdown",
   "id": "43b8797d",
   "metadata": {},
   "source": [
    "**Note**: You might get a slightly different response than what's shown in the video. Feel free to try different task."
   ]
  },
  {
   "cell_type": "code",
   "execution_count": 15,
   "id": "3b8dcac3-1e72-43b7-9d5a-1be740f6efd5",
   "metadata": {
    "height": 115
   },
   "outputs": [
    {
     "name": "stdout",
     "output_type": "stream",
     "text": [
      "\u001b[33mCritic\u001b[0m (to Writer):\n",
      "\n",
      "\n",
      "        Write a concise but engaging blogpost about\n",
      "        Data Saturday Dallas. Make sure the blogpost is\n",
      "       within 100 words.\n",
      "       \n",
      "\n",
      "--------------------------------------------------------------------------------\n",
      "\u001b[33mWriter\u001b[0m (to Critic):\n",
      "\n",
      "Title: \"Unveiling the Data Wonders of Data Saturday Dallas!\"\n",
      "\n",
      "Get ready to dive into a world of data excellence at Data Saturday Dallas! This event is a gold mine of insights, networking opportunities, and hands-on learning for data enthusiasts. With top-notch speakers and cutting-edge topics, you'll be empowered to unlock the true potential of data. Whether you're a seasoned data professional or just starting your journey, Data Saturday Dallas has something for everyone. Don't miss this chance to level up your data skills and connect with like-minded individuals. Mark your calendars for an unforgettable experience! 🚀📊 #DataSaturdayDallas #DataExcellence\n",
      "\n",
      "--------------------------------------------------------------------------------\n",
      "\u001b[34m\n",
      "********************************************************************************\u001b[0m\n",
      "\u001b[34mStarting a new chat....\u001b[0m\n",
      "\u001b[34m\n",
      "********************************************************************************\u001b[0m\n",
      "\u001b[33mCritic\u001b[0m (to SEO Reviewer):\n",
      "\n",
      "Review the following content. \n",
      "            \n",
      "\n",
      " Title: \"Unveiling the Data Wonders of Data Saturday Dallas!\"\n",
      "\n",
      "Get ready to dive into a world of data excellence at Data Saturday Dallas! This event is a gold mine of insights, networking opportunities, and hands-on learning for data enthusiasts. With top-notch speakers and cutting-edge topics, you'll be empowered to unlock the true potential of data. Whether you're a seasoned data professional or just starting your journey, Data Saturday Dallas has something for everyone. Don't miss this chance to level up your data skills and connect with like-minded individuals. Mark your calendars for an unforgettable experience! 🚀📊 #DataSaturdayDallas #DataExcellence\n",
      "\n",
      "--------------------------------------------------------------------------------\n",
      "\u001b[33mSEO Reviewer\u001b[0m (to Critic):\n",
      "\n",
      "As an SEO reviewer, my suggestions are:\n",
      "\n",
      "1. Include relevant keywords: Incorporate keywords related to data, data events, data professionals, or data conferences to enhance search engine visibility. For example, keywords like \"data conference Dallas,\" \"data event insights,\" or \"data networking opportunities.\"\n",
      "\n",
      "2. Optimize meta tags: Improve meta title and description for better click-through rates. Craft a title that encapsulates the essence of the event, using key terms like \"data insights\" or \"networking for data professionals.\" The description should be compelling and informative to attract more traffic.\n",
      "\n",
      "3. Utilize hashtags strategically: While hashtags like #DataSaturdayDallas can help with brand recognition, consider adding more specific and searchable hashtags related to data topics or the event's focus to reach a broader audience. Examples could include #DataNetworking or #DataLearning.\n",
      "\n",
      "--------------------------------------------------------------------------------\n",
      "\u001b[34m\n",
      "********************************************************************************\u001b[0m\n",
      "\u001b[34mStarting a new chat....\u001b[0m\n",
      "\u001b[34m\n",
      "********************************************************************************\u001b[0m\n",
      "\u001b[33mCritic\u001b[0m (to Legal Reviewer):\n",
      "\n",
      "Review the following content. \n",
      "            \n",
      "\n",
      " Title: \"Unveiling the Data Wonders of Data Saturday Dallas!\"\n",
      "\n",
      "Get ready to dive into a world of data excellence at Data Saturday Dallas! This event is a gold mine of insights, networking opportunities, and hands-on learning for data enthusiasts. With top-notch speakers and cutting-edge topics, you'll be empowered to unlock the true potential of data. Whether you're a seasoned data professional or just starting your journey, Data Saturday Dallas has something for everyone. Don't miss this chance to level up your data skills and connect with like-minded individuals. Mark your calendars for an unforgettable experience! 🚀📊 #DataSaturdayDallas #DataExcellence\n",
      "Context: \n",
      "{'Reviewer': 'SEO Reviewer', 'Review': 'Suggested improvements: 1. Include relevant keywords related to data events or data professionals. 2. Optimize meta tags for better click-through rates. 3. Utilize more specific and searchable hashtags related to data topics.'}\n",
      "\n",
      "--------------------------------------------------------------------------------\n",
      "\u001b[33mLegal Reviewer\u001b[0m (to Critic):\n",
      "\n",
      "As a Legal Reviewer:\n",
      "\n",
      "1. Ensure any claims about the event, such as being a \"gold mine of insights\" or having \"cutting-edge topics,\" are substantiated and not misleading.\n",
      "2. Verify that all event details and promises, including networking opportunities and hands-on learning, are accurately represented and can be delivered as described.\n",
      "3. Confirm that the event complies with data privacy regulations, especially if data handling or analytics are part of the activities.\n",
      "\n",
      "--------------------------------------------------------------------------------\n",
      "\u001b[34m\n",
      "********************************************************************************\u001b[0m\n",
      "\u001b[34mStarting a new chat....\u001b[0m\n",
      "\u001b[34m\n",
      "********************************************************************************\u001b[0m\n",
      "\u001b[33mCritic\u001b[0m (to Ethics Reviewer):\n",
      "\n",
      "Review the following content. \n",
      "            \n",
      "\n",
      " Title: \"Unveiling the Data Wonders of Data Saturday Dallas!\"\n",
      "\n",
      "Get ready to dive into a world of data excellence at Data Saturday Dallas! This event is a gold mine of insights, networking opportunities, and hands-on learning for data enthusiasts. With top-notch speakers and cutting-edge topics, you'll be empowered to unlock the true potential of data. Whether you're a seasoned data professional or just starting your journey, Data Saturday Dallas has something for everyone. Don't miss this chance to level up your data skills and connect with like-minded individuals. Mark your calendars for an unforgettable experience! 🚀📊 #DataSaturdayDallas #DataExcellence\n",
      "Context: \n",
      "{'Reviewer': 'SEO Reviewer', 'Review': 'Suggested improvements: 1. Include relevant keywords related to data events or data professionals. 2. Optimize meta tags for better click-through rates. 3. Utilize more specific and searchable hashtags related to data topics.'}\n",
      "{'Reviewer': 'Legal Reviewer', 'Review': 'Ensure any claims about the event, such as being a \"gold mine of insights\" or having \"cutting-edge topics,\" are substantiated and not misleading. Verify that all event details and promises, including networking opportunities and hands-on learning, are accurately represented and can be delivered as described. Confirm that the event complies with data privacy regulations, especially if data handling or analytics are part of the activities.'}\n",
      "\n",
      "--------------------------------------------------------------------------------\n",
      "\u001b[33mEthics Reviewer\u001b[0m (to Critic):\n",
      "\n",
      "Role: Ethics reviewer\n",
      "\n",
      "- Verify that any data collected during the event is done so with explicit consent from participants and is safeguarded appropriately to ensure data privacy and protection.\n",
      "- Ensure that any use of participant data for networking purposes is transparently communicated and participants have the option to opt out if they wish.\n",
      "- Confirm that all speakers and participants have consented to their likenesses and information being used in promotional materials and ensure they are accurately represented.\n",
      "\n",
      "--------------------------------------------------------------------------------\n",
      "\u001b[34m\n",
      "********************************************************************************\u001b[0m\n",
      "\u001b[34mStarting a new chat....\u001b[0m\n",
      "\u001b[34m\n",
      "********************************************************************************\u001b[0m\n",
      "\u001b[33mCritic\u001b[0m (to Meta Reviewer):\n",
      "\n",
      "Aggregrate feedback from all reviewers and give final suggestions on the writing.\n",
      "Context: \n",
      "{'Reviewer': 'SEO Reviewer', 'Review': 'Suggested improvements: 1. Include relevant keywords related to data events or data professionals. 2. Optimize meta tags for better click-through rates. 3. Utilize more specific and searchable hashtags related to data topics.'}\n",
      "{'Reviewer': 'Legal Reviewer', 'Review': 'Ensure any claims about the event, such as being a \"gold mine of insights\" or having \"cutting-edge topics,\" are substantiated and not misleading. Verify that all event details and promises, including networking opportunities and hands-on learning, are accurately represented and can be delivered as described. Confirm that the event complies with data privacy regulations, especially if data handling or analytics are part of the activities.'}\n",
      "{'reviewer': 'Ethics Reviewer', 'review': '- Verify that any data collected during the event is done so with explicit consent from participants and is safeguarded appropriately to ensure data privacy and protection.\\n- Ensure that any use of participant data for networking purposes is transparently communicated and participants have the option to opt out if they wish.\\n- Confirm that all speakers and participants have consented to their likenesses and information being used in promotional materials and ensure they are accurately represented.'}\n",
      "\n",
      "--------------------------------------------------------------------------------\n",
      "\u001b[33mMeta Reviewer\u001b[0m (to Critic):\n",
      "\n",
      "Aggregated feedback on the writing:\n",
      "1. Incorporate relevant keywords related to data events or data professionals for better search visibility (SEO Reviewer).\n",
      "2. Substantiate any claims about the event's value or content to avoid misleading attendees (Legal Reviewer).\n",
      "3. Obtain explicit consent from participants for data collection, ensure data privacy and protection, and transparently communicate data use for networking purposes (Ethics Reviewer).\n",
      "4. Optimize meta tags and utilize specific, searchable hashtags related to data topics for improved click-through rates (SEO Reviewer).\n",
      "5. Verify compliance with data privacy regulations, accuracy of event details and promises, and consent for the use of likenesses and information in promotional materials (Legal and Ethics Reviewers).\n",
      "\n",
      "Final suggestions:\n",
      "- Prioritize data privacy and protection by obtaining explicit consent for data collection and transparently communicating data use.\n",
      "- Substantiate event claims to ensure transparency and avoid misleading attendees.\n",
      "- Incorporate relevant keywords, optimize meta tags, and use specific hashtags for better search visibility and click-through rates.\n",
      "- Verify compliance with data privacy regulations and consent for the use of participant data and promotional materials.\n",
      "\n",
      "Overall, the writing can be enhanced by focusing on data privacy, substantiating event claims, optimizing for SEO, and ensuring regulatory compliance and transparency with participants.\n",
      "\n",
      "--------------------------------------------------------------------------------\n",
      "\u001b[33mCritic\u001b[0m (to Writer):\n",
      "\n",
      "Aggregated feedback on the writing:\n",
      "1. Incorporate relevant keywords related to data events or data professionals for better search visibility (SEO Reviewer).\n",
      "2. Substantiate any claims about the event's value or content to avoid misleading attendees (Legal Reviewer).\n",
      "3. Obtain explicit consent from participants for data collection, ensure data privacy and protection, and transparently communicate data use for networking purposes (Ethics Reviewer).\n",
      "4. Optimize meta tags and utilize specific, searchable hashtags related to data topics for improved click-through rates (SEO Reviewer).\n",
      "5. Verify compliance with data privacy regulations, accuracy of event details and promises, and consent for the use of likenesses and information in promotional materials (Legal and Ethics Reviewers).\n",
      "\n",
      "Final suggestions:\n",
      "- Prioritize data privacy and protection by obtaining explicit consent for data collection and transparently communicating data use.\n",
      "- Substantiate event claims to ensure transparency and avoid misleading attendees.\n",
      "- Incorporate relevant keywords, optimize meta tags, and use specific hashtags for better search visibility and click-through rates.\n",
      "- Verify compliance with data privacy regulations and consent for the use of participant data and promotional materials.\n",
      "\n",
      "Overall, the writing can be enhanced by focusing on data privacy, substantiating event claims, optimizing for SEO, and ensuring regulatory compliance and transparency with participants.\n",
      "\n",
      "--------------------------------------------------------------------------------\n",
      "\u001b[33mWriter\u001b[0m (to Critic):\n",
      "\n",
      "Title: \"Unlock the Data Magic at Data Saturday Dallas!\"\n",
      "\n",
      "Embark on a data journey at Data Saturday Dallas, a hub of knowledge and networking for data professionals. Immerse yourself in top-tier speakers and cutting-edge topics to elevate your data skills. Prioritizing data privacy, we collect information with explicit consent for transparent networking benefits. Upholding compliance, we substantiate our event value to provide accurate promises. Optimize your experience by using specific hashtags and keywords for seamless search visibility. Join us for an enriching, transparent, and compliant event that respects your data and empowers your growth! 🌟📊 #DataSaturdayDallas #DataMagic\n",
      "\n",
      "--------------------------------------------------------------------------------\n"
     ]
    }
   ],
   "source": [
    "res = critic.initiate_chat(\n",
    "    recipient=writer,\n",
    "    message=task,\n",
    "    max_turns=2,\n",
    "    summary_method=\"last_msg\"\n",
    ")"
   ]
  },
  {
   "cell_type": "markdown",
   "id": "c5c833b0",
   "metadata": {},
   "source": [
    "## Get the summary"
   ]
  },
  {
   "cell_type": "code",
   "execution_count": 16,
   "id": "68ef82ed-f102-4964-b7be-60e2f258a39b",
   "metadata": {
    "height": 30
   },
   "outputs": [
    {
     "name": "stdout",
     "output_type": "stream",
     "text": [
      "Title: \"Unlock the Data Magic at Data Saturday Dallas!\"\n",
      "\n",
      "Embark on a data journey at Data Saturday Dallas, a hub of knowledge and networking for data professionals. Immerse yourself in top-tier speakers and cutting-edge topics to elevate your data skills. Prioritizing data privacy, we collect information with explicit consent for transparent networking benefits. Upholding compliance, we substantiate our event value to provide accurate promises. Optimize your experience by using specific hashtags and keywords for seamless search visibility. Join us for an enriching, transparent, and compliant event that respects your data and empowers your growth! 🌟📊 #DataSaturdayDallas #DataMagic\n"
     ]
    }
   ],
   "source": [
    "print(res.summary)"
   ]
  },
  {
   "cell_type": "code",
   "execution_count": null,
   "id": "60d60289",
   "metadata": {},
   "outputs": [],
   "source": []
  }
 ],
 "metadata": {
  "kernelspec": {
   "display_name": "Python 3 (ipykernel)",
   "language": "python",
   "name": "python3"
  },
  "language_info": {
   "codemirror_mode": {
    "name": "ipython",
    "version": 3
   },
   "file_extension": ".py",
   "mimetype": "text/x-python",
   "name": "python",
   "nbconvert_exporter": "python",
   "pygments_lexer": "ipython3",
   "version": "3.12.5"
  }
 },
 "nbformat": 4,
 "nbformat_minor": 5
}
